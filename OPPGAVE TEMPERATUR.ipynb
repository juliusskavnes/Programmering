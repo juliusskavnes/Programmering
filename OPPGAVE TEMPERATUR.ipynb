{
 "cells": [
  {
   "cell_type": "markdown",
   "metadata": {},
   "source": [
    "# RAPPORT: TEMPERATUR PÅ JORDEN\n",
    "*Julius Skavnes*"
   ]
  },
  {
   "cell_type": "markdown",
   "metadata": {},
   "source": [
    "## 1. Hensikt\n",
    "\n",
    "Vi skal her lage en modell som representerer gjennomsnittstemperaturen på jorden."
   ]
  },
  {
   "cell_type": "markdown",
   "metadata": {},
   "source": [
    "## 2. Teori\n",
    "\n",
    "Modeller er forenklede representasjoner av virkeligheten, og ingen modeller stemmer nøyaktig. Alle modeller forteller noe, men ikke alt, om et eller flere fenomener i virkeligheten. Temperaturmodellering kan være nyttig for å forutsi gjennomsnittstemperaturen på planeter og for å undersøke effekten av ulike fenomener, slik som drivhuseffekten."
   ]
  },
  {
   "cell_type": "markdown",
   "metadata": {},
   "source": [
    "### Modell 1\n",
    "\n",
    "Stefan-Boltzmann-loven, S = σT⁴, er summen av all kraften som sendes ut av en svart kropp ved temperaturen T der σ er\n",
    "Stefan-Boltzmann konstant. Utsendt solstråling er gitt ved:\n",
    "\n",
    "![hdahoow](https://i.gyazo.com/d3a9a8f83b2bcff94ea6d2406cf1d37c.png)\n",
    "\n",
    "Den totale solstrålingen som sendes ut av solen finner man ved å gange overflatearealet til solen sammen med utsendt solstråling funnet med Stefan-Boltzmann loven:\n",
    "\n",
    "![adhuuhoads](https://i.gyazo.com/20f4607b88c585ec89398a6b24330e87.png)\n",
    "\n",
    "Solstrålingen på et objekt en viss avstand D fra solen blir funnet ved å dele den totale strålingen som sendes ut av solen med overflaten som sollyset faller over. \n",
    "Overflatearealet som strålingen fra solen faller over vil være 4πD^2. Derfor er solstrålingsintensiteten, S0 i (W/m^2), innfallende på et objekt, gitt ved:\n",
    "\n",
    "\n",
    "![adjiwda](https://i.gyazo.com/8f6721056047b2e83eb7e81fbae686ed.png)"
   ]
  },
  {
   "cell_type": "markdown",
   "metadata": {},
   "source": [
    "### Modell 2\n",
    "\n",
    "![bilde%20radibo.png](https://i.gyazo.com/d80a39c8ad781b4e969bf8505851c330.png)\n",
    "\n",
    "Jorden fanger opp en mengde solstråling som tilsvarer den som faller på en plate med samme radius som Jorden (se figur over), vendt mot solen, med arealet:\n",
    "\n",
    "![hudaohadw](https://i.gyazo.com/f7de1b3b6de8ded62c87909d80127cb8.png)\n",
    "\n",
    "Jorden er imidlertid sfærisk, så området som presenteres for den innkommende solstrålingen av den roterende jorden (over en periode på 24 timer eller mer) er:\n",
    "\n",
    "![hofhodwa](https://i.gyazo.com/31f412d1d61a2b49e326283b51fabdc8.png)\n",
    "\n",
    "Altså fire ganger så stor. Dermed er solstrålingen per arealeenhet i gjennomsnitt over hele jordoverflaten en fjerdedel av solstrålingsintensiteten (solkonstanten) S0:\n",
    "\n",
    "![adwadwdaw](https://i.gyazo.com/b7883ac09a42a7fbe969ad720503d592.png)\n",
    "\n",
    "Albedo er en konstant som forteller hvor mye av stråling som treffer et legeme vil bli reflektert. Vi regner ut energien som vil bli absorbert med tanke på refleksjonskonstaneten albedo ved hjelp av formelen: \n",
    "\n",
    "![YEP](https://i.gyazo.com/a0679867f13d7e2cfbc696603379995c.png)\n",
    "\n",
    "Vi antar at systemet er i termodynamisk likevekt. Da vil all energien jorda mottar fra solen bli avgitt. Da vil jorden sende ut all energien den har motatt som varmestråling. Deretter bruker vi Stefan-Boltzmann loven for jordkloden og omgjør formelen slik at den viser temperatur:\n",
    "\n",
    "![EY](https://i.gyazo.com/23f13c35bd8890a0074c020ffa3f48e1.png)"
   ]
  },
  {
   "cell_type": "markdown",
   "metadata": {},
   "source": [
    "### Modell 3"
   ]
  },
  {
   "cell_type": "markdown",
   "metadata": {},
   "source": [
    "![adshdsauh](https://i.gyazo.com/668a6e7ec2f6b6fa394b09bff6349d5f.png)\n",
    "\n",
    "#### Figuren over viser situasjonen med antagelsene:\n",
    "\n",
    "(1) viser solinnstårlingen som treffer jordkloden.\n",
    "\n",
    "(3) viser utsrålingen fra jordkloden som treffer atmosfæren.\n",
    "\n",
    "(2) viser situasjonen til atmosfæren. Atmosfæren vil sende ut stråling til verdensrommet, men også stråling tilbake til jorden. \n",
    "\n",
    "Vi antar to systemer som begge er i termodynamisk likevekt (energi inn = energi ut). Det ene systemet representerer varmestråling fra solen inn i systemet og varmestråling fra atmosfæren ut i verdensrommet. Det andre systemet vil være all varmestråling som treffer jordoverflaten (pil 1 og pil 2 nedover), og\n",
    "varmestråling ut fra jordoverflaten (pil 3).\n",
    "\n",
    "Først lager vi et likningssytem for det første systemet. Energi inn vil være strålingen fra sola, mens energi ut vil være varmestråling fra atmosfæren ut i verdensrommet. Da blir likningen:\n",
    "\n",
    "![ahodaowd](https://i.gyazo.com/d2a2a7d6445fdf62972aae7a3d7cd3a1.png)\n",
    "\n",
    "Deretter lager vi et likningssystem for det andre systemet. Energi inn vil være varmestrålingen fra sola og varmestråling fra atmosfæren, mens energi ut vil være varmestråling ut fra jordoverflaten. Da blir likningen:\n",
    "\n",
    "![dhwaohowd](https://i.gyazo.com/de12244bfb3ab57b52b276871081b146.png)\n",
    "\n",
    "Vi setter likningssystem 1 inn i likningssystem 2 og får:\n",
    "\n",
    "![dhaowhodwa](https://i.gyazo.com/1abbf98b6bd513a3cca9d0d880e1c04c.png)"
   ]
  },
  {
   "cell_type": "markdown",
   "metadata": {},
   "source": [
    "### Modell 4\n",
    "\n",
    "Jeg valgte å forandre modellen ved å legge til at atmosfæren absorberer deler av varmestrålingen fra solen. Siden atmosfæren bare tar opp rundt 23% av varmestrålingen fra solen må jeg endre formlene til å passe dette. Strålingen som treffer atmosfæren fra solen er fortsatt lik så den er fortsatt som i likningssytem 1 fra modell 3:\n",
    "\n",
    "![ahodaowd](https://i.gyazo.com/a95d791b1f2d85cfa67ab4ee8a67a14a.png)\n",
    "\n",
    "Endringen kommer når du ser på system 2 og strålingen som treffer overflaten på jordkloden. Siden atmosfæren tar opp litt av strålingen må vi legge inn enn ny konstant slik at strålingen blir mindre når den treffer overflaten. Jeg valgte å kalle denne absorb, og da vil likningssettet bli slik:\n",
    "\n",
    "![adhowiowda](https://i.gyazo.com/14c0c426e718d05c0084d44b04b01169.png)\n",
    "\n",
    "Hvis vi setter likningssett 1 inn i likningssett 2 blir det:\n",
    "\n",
    "![dhawoadwawd](https://i.gyazo.com/654a82af0926eba302313f3c4835f79a.png)"
   ]
  },
  {
   "cell_type": "markdown",
   "metadata": {},
   "source": [
    "### Modell 5\n",
    "\n",
    "Jeg tar utgangspunktet i et punkt på ekvator. Jordan har en \"Perihelion\" og \"Aphelion\", som er punktene nærmest og lengst unna jorden. Lager et program som bruker de samme formlene jeg har vist i de forrige modellene, men endrer på avstanden fra jorden og solen slik at strålingen og gjennomsnittstemperaturen blir annerledes."
   ]
  },
  {
   "cell_type": "markdown",
   "metadata": {},
   "source": [
    "## 3. Resultater\n",
    "\n",
    "Vi bruker formelene vi har kommet frem til i teori-delen og fremstiller svar på oppgavene.\n",
    "\n",
    "### Modell 1"
   ]
  },
  {
   "cell_type": "code",
   "execution_count": 86,
   "metadata": {},
   "outputs": [
    {
     "name": "stdout",
     "output_type": "stream",
     "text": [
      "Gjennomsnittlig varmestråling som treffer vertikalt på jordklodens atmosfære er: 1367.8815791898396 W/m^2\n"
     ]
    }
   ],
   "source": [
    "import math as math\n",
    "\n",
    "# Legger inn konstanter\n",
    "sigma = (5.67e-8)    #[W m^2 K^4]\n",
    "temperatur_sol = 5778    #[Kelvin]\n",
    "radius_sol = 6.96e8    #[m]\n",
    "distanse_sol_jord = 1.496e11    #[m]\n",
    "radius_jord = 6371e3    #[m]\n",
    "albedo = 0.306\n",
    "\n",
    "stråling_sol = sigma*(temperatur_sol**4)    # Regner ut formelen om solstråling fra modell 1\n",
    "total = stråling_sol*4*math.pi*radius_sol**2    # Regner ut den totale strålingen med formel fra modell 1\n",
    "\n",
    "S0 = total/(4*math.pi*distanse_sol_jord**2)    # Regner ut solstrålingsintensiteten på jorda\n",
    "\n",
    "print (\"Gjennomsnittlig varmestråling som treffer vertikalt på jordklodens atmosfære er:\",S0, \"W/m^2\")"
   ]
  },
  {
   "cell_type": "markdown",
   "metadata": {},
   "source": [
    "### Modell 2"
   ]
  },
  {
   "cell_type": "code",
   "execution_count": 81,
   "metadata": {},
   "outputs": [
    {
     "name": "stdout",
     "output_type": "stream",
     "text": [
      "Gjennomsnittstemperaturen uten atmosfæren blir -18.79444296038156 ℃\n"
     ]
    }
   ],
   "source": [
    "S = S0/4    # Deler solstrålingsintensiteten på 4 slik at det blir solstrålingen per arealeenhet \n",
    "temperatur = ((S*(1 - albedo)) / sigma)**(1/4) - 273.15    # Regner ut gjennomsnittstemperaturen på jorda uten atmosfære med formel fra modell 2\n",
    "print(\"Gjennomsnittstemperaturen uten atmosfæren blir\", temperatur, \"℃\")"
   ]
  },
  {
   "cell_type": "markdown",
   "metadata": {},
   "source": [
    "### Modell 3"
   ]
  },
  {
   "cell_type": "code",
   "execution_count": 80,
   "metadata": {},
   "outputs": [
    {
     "name": "stdout",
     "output_type": "stream",
     "text": [
      "Gjennomsnittstemperaturen med den enkle atmosfæren blir 29.331438171994705 ℃\n"
     ]
    }
   ],
   "source": [
    "temperatur = ((2*S*(1 - albedo))/sigma)**(1/4) - 273.15    # Regner ut temperaturen på jorda med en enkel atmosfære med formel fra modell 3\n",
    "print(\"Gjennomsnittstemperaturen med den enkle atmosfæren blir\", temperatur, \"℃\")"
   ]
  },
  {
   "cell_type": "markdown",
   "metadata": {},
   "source": [
    "### Modell 4"
   ]
  },
  {
   "cell_type": "code",
   "execution_count": 87,
   "metadata": {},
   "outputs": [
    {
     "name": "stdout",
     "output_type": "stream",
     "text": [
      "Gjennomsnittstemperaturen med den avanserte atmosfæren blir 15.936960270201496 ℃\n"
     ]
    }
   ],
   "source": [
    "absorb = 0.230    # Legger til konstanten abosrb som tar hensyn til solstråling som blir absorbert av atmosfæren\n",
    "\n",
    "temperatur = ((S*(1 - (albedo + absorb))+S*(1 - albedo))/sigma)**(1/4) - 273.15    # Regner ut temperaturen på jorda med en avansert atmosfære med formel fra modell 4\n",
    "print(\"Gjennomsnittstemperaturen med den avanserte atmosfæren blir\", temperatur, \"℃\")"
   ]
  },
  {
   "cell_type": "markdown",
   "metadata": {},
   "source": [
    "### Modell 5"
   ]
  },
  {
   "cell_type": "code",
   "execution_count": 83,
   "metadata": {},
   "outputs": [
    {
     "data": {
      "image/png": "[encoded data removed]",
      "text/plain": [
       "<Figure size 432x288 with 1 Axes>"
      ]
     },
     "metadata": {
      "needs_background": "light"
     },
     "output_type": "display_data"
    }
   ],
   "source": [
    "from pylab import *\n",
    "\n",
    "# Legger inn lengste og minste avstand fra solen, og lager listene jeg vil trenge videre\n",
    "Aphelion = 1.521e11\n",
    "Perihelion = 1.471e11\n",
    "Avstand = []\n",
    "Straling = []\n",
    "Temp = []\n",
    "Månedlig_vekst = (Aphelion - Perihelion)/6   # Hvor mye avstanden fra jorden til solen endrer seg hver måned\n",
    "t = []    # Lager en liste for hver måned\n",
    "\n",
    "for i in range(6):    # Legger til avstanden i avstand-listen når jorden går lenger og lenger unna solen\n",
    "    Perihelion += Månedlig_vekst\n",
    "    Avstand.append(Perihelion)\n",
    "    \n",
    "for i in range(6):    # Legger til avstanden i avstand-listen når jorden går nærmere og nærmere solen\n",
    "    Aphelion -= Månedlig_vekst\n",
    "    Avstand.append(Aphelion)\n",
    "\n",
    "for i in range(len(Avstand)):     # Legger til i stråling-listen hvor stor strålingen er for hver måned\n",
    "    Stral = (total/(4*math.pi*Avstand[i]**2))/4    # Deler på 4 for å få riktig stråling per arealenhet\n",
    "    Straling.append(Stral)\n",
    "    t.append(i+1)    # tar +1 ellers blir det fra 0-11 månede og ikke 1-12\n",
    "    \n",
    "for i in range(len(Straling)):     # Legger til i temperatur-listen hvor stor temperaturen er for hver måned (i Celsius)\n",
    "    lol = ((Straling[i]*(1 - (albedo + absorb))+S*(1 - albedo))/sigma)**(1/4) - 273.15   \n",
    "    Temp.append(lol)\n",
    "\n",
    "plot(t, Temp,linestyle='--',marker='o')    # Plotter grafen med resultatene\n",
    "grid()\n",
    "xlabel('Tid (Måneder)')\n",
    "ylabel('Temperatur (Celsius)')\n",
    "show()"
   ]
  },
  {
   "cell_type": "markdown",
   "metadata": {},
   "source": [
    "## 4. Drøfting\n",
    "\n",
    "### Modell 1\n",
    "\n",
    "Modellen viser gjennomsnittlig varmestråling som treffer vertikalt på jordklodens atmosfære. \n",
    "\n",
    "Modellen fungerer fint til å vise hvor mye varmestråling som treffer jorden. Når solen skyter ut varmestråling vil den sendes ut i verdensrommet. Jo lenger ut den går, jo mer vil energien bli spredd utover et større område. Da vil intensiten synke og konstanten bli mindre. Resultatet ble som forventet, og er realistisk.\n",
    "\n",
    "\n",
    "### Modell 2\n",
    "\n",
    "Modellen viser en enkel framstilling av gjennomsnittlig temperatur på jorden.\n",
    "\n",
    "Denne modellen forutsetter at jorden ikke har en atmosfære. Dette gjør at resultatene blir mye lavere enn det de egentlig burde være fordi drivhuseffekten ikke er i bruk. Dette gjør at resultatene ikke kan brukes til noe annet enn en framstilling av hva temperaturen på jorden hadde vært uten atmosfære, som gjør bruken av modellen veldig begrenset. Resultaten er veldig lite realistiske i forhold til andre modeller.\n",
    "\n",
    "\n",
    "### Modell 3\n",
    "\n",
    "Modellen viser gjennomsnittlig temperatur på jordkloden med atmosfære.\n",
    "\n",
    "Modellen forutsetter Modellen bruker en veldig enkel versjon atmosfæren. Dette gjør at resultatene blir bedre enn i modell 1, men er fortsatt ikke realistisk nok til å bli brukt i andre sammenhenger. Denne modellen forutsetter at atmosfæren har en konstant temperatur, at atmosfæren er fullstendig gjennomsiktig for stråling fra solen, og at atmosfæren tar imot all stråling fra jorden. Dette er mange forutsetninger, og alle sammen er feil. Dette er med på å svekke hvor riktig resultatene er i forhold til den ekte gjennomsnittlig temperaturen, som gjør resultatene lite realistiske.\n",
    "\n",
    "\n",
    "### Modell 4\n",
    "\n",
    "Modellen viser gjennomsnittlig temperatur på jordkloden med en bedre atmosfære enn modell 3.\n",
    "\n",
    "Resultatene som kommer frem i denne modellen er veldig nærme det ekte resultatet. Dette gjør at modellen er i større grad realistisk og har mulighet til å bli brukt i andre sammenhenger. Modellen forutsetter fortsatt at atmosfæren har konstant temperatur, og at den tar imot all stråling fra jorden, men den er ikke lenger fullstendig gjennomsiktig for stråling fra solen. Den sistnevnte faktoren har en såpass stor påvirkning på temperaturen, at ved å ta med det i beregningen gir en stor forskjell i resultatet. \n",
    "\n",
    "\n",
    "### Modell 5\n",
    "\n",
    "Modellen viser gjennomsnittlig temperatur på jordkloden gjennom et år, der avstanden fra jorden til solen ikke er konstant. \n",
    "\n",
    "Modellen fungerer fint til å vise hvordan gjennomsnittstemperaturen endrer seg ettersom avstanden fra jorden til solen endrer seg, men resultatet er langt fra realistisk. Modellen har mange hull ,som f.eks. ingen rotasjon for jorda. Jeg valgte et punkt på ekvator, som i virkeligheten har mye høyere gjennomsnittstemperatur enn vist i modellen. \n",
    "\n",
    "I resultatet valgte jeg måneder istedenfor dager fordi resultatet blir det samme."
   ]
  },
  {
   "cell_type": "markdown",
   "metadata": {},
   "source": [
    "## 5. Konklusjon"
   ]
  },
  {
   "cell_type": "markdown",
   "metadata": {},
   "source": [
    "Vi har modellert ulike gjennomsnittstemperaturer ved hjelp av modeller med ulik kompleksitet. \n",
    "\n",
    "Vi kan utvide modellen ved å innføre en kategori for atmosfærere, som forberedes på mange måter. Alt i alt er dette en fin måte å fremstille gjennomsnittstemperatur på et enkelt nivå, men hadde ikke fungert i mer avanserte miljøer."
   ]
  }
 ],
 "metadata": {
  "kernelspec": {
   "display_name": "Python 3",
   "language": "python",
   "name": "python3"
  },
  "language_info": {
   "codemirror_mode": {
    "name": "ipython",
    "version": 3
   },
   "file_extension": ".py",
   "mimetype": "text/x-python",
   "name": "python",
   "nbconvert_exporter": "python",
   "pygments_lexer": "ipython3",
   "version": "3.8.3"
  }
 },
 "nbformat": 4,
 "nbformat_minor": 4
}
