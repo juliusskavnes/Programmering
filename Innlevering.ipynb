{
 "cells": [
  {
   "cell_type": "markdown",
   "metadata": {},
   "source": [
    "# Teoridel"
   ]
  },
  {
   "cell_type": "markdown",
   "metadata": {},
   "source": [
    "### Analytisk derivasjon\n",
    "\n",
    "En analytisk metode finner et uttrykk som beskriver stigningstallet til funksjonen som blir derivert. I denne metoden følger man definisjonen av den deriverte og Δx går mot null. \n",
    "\n",
    "$ f(x) = \\mathop {\\lim }\\limits_{\\Delta x\\to 0}\\frac{f(x+\\Delta x)-f(x)}{\\Delta x}$\n",
    "\n",
    "Denne metoden er mer vanlig for hånd og det finnes mange regneregler man må følge for å få riktig svar."
   ]
  },
  {
   "cell_type": "markdown",
   "metadata": {},
   "source": [
    "### Numerisk derivasjon\n",
    "\n",
    "Numeriske metoder er en samlebetegnelse for metoder som finner tilnærmede løsninger til matematiske problemer. Numerisk derivasjon gjør man ved å velge Δx i definisjonen av den deriverte som et veldig lite tall, 1E-8 fungerer best, slik at  \n",
    "\n",
    "$ f(x) = \\mathop {\\lim }\\limits_{\\Delta x\\to 0}\\frac{f(x+\\Delta x)-f(x)}{\\Delta x}$\n",
    "\n",
    "går til\n",
    "\n",
    "$ f(x)\\approx\\frac{f(x+\\Delta x)-f(x)}{\\Delta x} $ \n",
    "\n",
    "Denne metoden fungerer bedre for programmering og svaret man får er et tilnærmet riktig svar."
   ]
  },
  {
   "attachments": {},
   "cell_type": "markdown",
   "metadata": {},
   "source": [
    "### Numerisk integrasjon\n",
    "\n",
    "Ved å integrere finner man en ny funksjon som f.eks. kan brukes til å finne arealet under en graf. Når man gjør en numerisk integrasjon finner man tilnærmet areal. Den enkleste numeriske metoden er rektangelmetoden og ser slik ut:\n",
    "\n",
    "https://www.mathcs.emory.edu/~cheung/Courses/170/Syllabus/07/FIGS/rectangle03.gif (vet ikke hvordan man får bilder i Github)\n",
    "\n",
    "Formelen for det bestemte intergralet til en funksjon $f(x)$ fra $x = a$ til $x = b$ kan tilnærmes ved arealet til $n$ rektangler med bredden $ h = \\frac{b - a}{n} $:\n",
    "\n",
    "$ f(x)dx\\approx h {n \\atop \\matrix{\\Sigma \\\\ k=0}} f(x_k)$\n",
    "\n",
    "Svaret blir mer nøyaktig utifra hvor mange rektangler ($n$) man velger. Ved å bruke en løkke som gir ulike verider av $n$ ser vi hvordan et svar som skal være 51.0 blir mer nøyaktig ut ifra hvor stor veriden til $n$ er:"
   ]
  },
  {
   "cell_type": "code",
   "execution_count": 12,
   "metadata": {},
   "outputs": [
    {
     "name": "stdout",
     "output_type": "stream",
     "text": [
      "For n = 10 : 42.44999999999999\n",
      "For n = 100 : 50.10449999999999\n",
      "For n = 1000 : 50.91004500000009\n",
      "For n = 10000 : 50.99100044999991\n",
      "For n = 100000 : 50.99910000449952\n"
     ]
    }
   ],
   "source": [
    "from pylab import *\n",
    "\n",
    "def rektangelmetoden(f, a, b, n):\n",
    "    total = 0.0\n",
    "    h = (b - a) / n\n",
    "    for k in range(0,n):\n",
    "        total = total + f(a + (k * h))\n",
    "    Areal = h * total\n",
    "    return Areal\n",
    "\n",
    "def f(x):\n",
    "    return 2*x**3 + x**2 - x + 2\n",
    "\n",
    "i = 10\n",
    "\n",
    "while i <= 100000:\n",
    "    print(\"For n =\", i,  \":\", rektangelmetoden(f, 0, 3, i))\n",
    "    i *= 10"
   ]
  },
  {
   "cell_type": "markdown",
   "metadata": {},
   "source": [
    "# Oppgaver"
   ]
  },
  {
   "cell_type": "markdown",
   "metadata": {},
   "source": [
    "### Oppgave 7.3"
   ]
  },
  {
   "cell_type": "code",
   "execution_count": 4,
   "metadata": {},
   "outputs": [
    {
     "data": {
      "image/png": "[encoded data removed]",
      "text/plain": [
       "<Figure size 432x288 with 1 Axes>"
      ]
     },
     "metadata": {
      "needs_background": "light"
     },
     "output_type": "display_data"
    }
   ],
   "source": [
    "def f(t):\n",
    "    return 0.2*e**t + 90\n",
    "\n",
    "def derivert(f, t, dt):\n",
    "    fder = (f(t + dt) - f(t)) /  dt\n",
    "    return fder\n",
    "\n",
    "dt = 1E-8\n",
    "t = linspace(0, 10, 1000)\n",
    "der = derivert(f, t, dt)\n",
    "vanlig = f(t)\n",
    "    \n",
    "plot(t, vanlig, label = \"Antall planter\")\n",
    "plot(t, der, label = \"Endringen\")\n",
    "legend()\n",
    "show()"
   ]
  },
  {
   "cell_type": "markdown",
   "metadata": {},
   "source": [
    "### Oppgave 7.9"
   ]
  },
  {
   "cell_type": "code",
   "execution_count": 5,
   "metadata": {},
   "outputs": [
    {
     "data": {
      "image/png": "[encoded data removed]",
      "text/plain": [
       "<Figure size 432x288 with 1 Axes>"
      ]
     },
     "metadata": {
      "needs_background": "light"
     },
     "output_type": "display_data"
    },
    {
     "name": "stdout",
     "output_type": "stream",
     "text": [
      "Temperaturen synker -3.877022436427069 grader\n"
     ]
    }
   ],
   "source": [
    "def T(t):\n",
    "    return 70 * e ** ((-0.065) * t)\n",
    "\n",
    "def derivert(T, x, dx):\n",
    "    fder = (T(x + dx) - T(x)) / dx\n",
    "    return fder\n",
    "\n",
    "dt = 1E-8\n",
    "t = linspace(0,60,1000)\n",
    "der = derivert(T, t, dt)\n",
    "vanlig = T(t)\n",
    "\n",
    "plot(t, der, label = \"T'(t)\")\n",
    "plot(t, vanlig, label = \"T(t)\")\n",
    "legend()\n",
    "show()\n",
    "\n",
    "print(\"Temperaturen synker\",der[41],\"grader\")"
   ]
  },
  {
   "cell_type": "markdown",
   "metadata": {},
   "source": [
    "### Oppgave 7.12"
   ]
  },
  {
   "cell_type": "code",
   "execution_count": 6,
   "metadata": {},
   "outputs": [
    {
     "data": {
      "image/png": "[encoded data removed]",
      "text/plain": [
       "<Figure size 432x288 with 1 Axes>"
      ]
     },
     "metadata": {
      "needs_background": "light"
     },
     "output_type": "display_data"
    }
   ],
   "source": [
    "fart = []\n",
    "akselerasjon = []\n",
    "\n",
    "data = loadtxt(\"posisjon.txt\", skiprows = 1)\n",
    "tid = data[:,0]\n",
    "posisjon = data[:,1]\n",
    "\n",
    "\n",
    "for i in range(len(tid) - 1):\n",
    "    dy = posisjon[i+1] - posisjon[i]\n",
    "    dx = tid[i + 1] - tid[i]\n",
    "    der = dy/dx\n",
    "    fart.append(der)\n",
    "    \n",
    "    \n",
    "for i in range(len(fart) - 1):\n",
    "    dy = fart[i + 1] - fart[i]\n",
    "    dx = tid[i + 1] - tid[i]\n",
    "    der = dy/dx\n",
    "    akselerasjon.append(der)\n",
    "\n",
    "plot(tid, posisjon, label = \"posisjon\")\n",
    "plot(tid[:-1], fart, label = \"fart\")\n",
    "plot(tid[:-2], akselerasjon, label = \"akselerasjon\")\n",
    "legend()\n",
    "show()"
   ]
  },
  {
   "cell_type": "markdown",
   "metadata": {},
   "source": [
    "### Oppgave 7.14 (1)"
   ]
  },
  {
   "cell_type": "code",
   "execution_count": 7,
   "metadata": {},
   "outputs": [
    {
     "name": "stdout",
     "output_type": "stream",
     "text": [
      "Arealet er 23.999100000000016\n"
     ]
    }
   ],
   "source": [
    "def rektangelmetoden(f, a, b, n):\n",
    "    total = 0.0\n",
    "    h = (b - a) / n\n",
    "    for k in range(0,n):\n",
    "        total = total + f(a + (k * h))\n",
    "    Areal = h * total\n",
    "    return Areal\n",
    "\n",
    "def f(x):\n",
    "    return 2 * x + 1\n",
    "\n",
    "print(\"Arealet er\", rektangelmetoden(f, 2, 5, 10000))"
   ]
  },
  {
   "cell_type": "markdown",
   "metadata": {},
   "source": [
    "### Oppgave 7.14 (3)"
   ]
  },
  {
   "cell_type": "code",
   "execution_count": 8,
   "metadata": {},
   "outputs": [
    {
     "name": "stdout",
     "output_type": "stream",
     "text": [
      "Arealet er 141.00295044587625\n"
     ]
    }
   ],
   "source": [
    "def rektangelmetoden(f, a, b, n):\n",
    "    total = 0.0\n",
    "    h = (b - a) / n\n",
    "    for k in range(0,n):\n",
    "        total = total + f(a + (k * h))\n",
    "    Areal = h * total\n",
    "    return Areal\n",
    "\n",
    "def f(x):\n",
    "    return e**x\n",
    "\n",
    "print(\"Arealet er\", rektangelmetoden(f, 2, 5, 10000))"
   ]
  },
  {
   "cell_type": "markdown",
   "metadata": {},
   "source": [
    "### Oppgave 7.14 (7)"
   ]
  },
  {
   "cell_type": "code",
   "execution_count": 9,
   "metadata": {},
   "outputs": [
    {
     "name": "stdout",
     "output_type": "stream",
     "text": [
      "Arealet er 3.2940438058664125\n"
     ]
    }
   ],
   "source": [
    "def rektangelmetoden(f, a, b, n):\n",
    "    total = 0.0\n",
    "    h = (b - a) / n\n",
    "    for k in range(0,n):\n",
    "        total = total + f(a + (k * h))\n",
    "    Areal = h * total\n",
    "    return Areal\n",
    "\n",
    "def f(x):\n",
    "    return sqrt(log(x))\n",
    "\n",
    "print(\"Arealet er\", rektangelmetoden(f, 2, 5, 10000))"
   ]
  },
  {
   "cell_type": "markdown",
   "metadata": {},
   "source": [
    "#### !Under er det jeg gjorde av 7.14 i boken før jeg forstod at jeg var på feil oppgave!"
   ]
  },
  {
   "cell_type": "code",
   "execution_count": 14,
   "metadata": {},
   "outputs": [
    {
     "data": {
      "image/png": "[encoded data removed]",
      "text/plain": [
       "<Figure size 432x288 with 1 Axes>"
      ]
     },
     "metadata": {
      "needs_background": "light"
     },
     "output_type": "display_data"
    },
    {
     "name": "stdout",
     "output_type": "stream",
     "text": [
      "Den maksimale verdien til tilnærmingen av p'(x) er 2.720488723184644\n"
     ]
    }
   ],
   "source": [
    "def p(x):\n",
    "    return (100*x**2 + 1000)/(1.07*x**3 + 45)\n",
    "\n",
    "def derivert(f, x, dx):\n",
    "    fder = (f(x + dx) - f(x)) / dx\n",
    "    return fder\n",
    "\n",
    "dt = 1E-8\n",
    "t = linspace(0,101,1000)\n",
    "der = derivert(p, t, dt)\n",
    "vanlig = p(t)\n",
    "\n",
    "plot(t, der, label = \"p'(x)\")\n",
    "plot(t, vanlig, label = \"p(x)\")\n",
    "legend()\n",
    "show()\n",
    "print(\"Den maksimale verdien til tilnærmingen av p'(x) er\", max(der))"
   ]
  },
  {
   "cell_type": "code",
   "execution_count": null,
   "metadata": {},
   "outputs": [],
   "source": []
  }
 ],
 "metadata": {
  "kernelspec": {
   "display_name": "Python 3",
   "language": "python",
   "name": "python3"
  },
  "language_info": {
   "codemirror_mode": {
    "name": "ipython",
    "version": 3
   },
   "file_extension": ".py",
   "mimetype": "text/x-python",
   "name": "python",
   "nbconvert_exporter": "python",
   "pygments_lexer": "ipython3",
   "version": "3.8.3"
  }
 },
 "nbformat": 4,
 "nbformat_minor": 4
}
